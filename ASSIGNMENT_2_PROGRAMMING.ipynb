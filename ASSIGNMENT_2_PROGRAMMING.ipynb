{
 "cells": [
  {
   "cell_type": "markdown",
   "id": "7eae15a2",
   "metadata": {},
   "source": [
    "\n",
    "\n",
    "\n"
   ]
  },
  {
   "cell_type": "markdown",
   "id": "43e67d00",
   "metadata": {},
   "source": [
    "# 1. Write a Python program to convert kilometers to miles?"
   ]
  },
  {
   "cell_type": "code",
   "execution_count": 1,
   "id": "8a7ba9cf",
   "metadata": {},
   "outputs": [
    {
     "name": "stdout",
     "output_type": "stream",
     "text": [
      "enter a kilometer to convert in to mile =55\n",
      "converted miles = 34.171499999999995\n"
     ]
    }
   ],
   "source": [
    "kilometer=int(input(\"enter a kilometer to convert in to mile =\"))\n",
    "\n",
    "#1 km = 0.6213 miles\n",
    "\n",
    "miles=kilometer*0.6213\n",
    "print(\"converted miles =\",miles)"
   ]
  },
  {
   "cell_type": "markdown",
   "id": "8b1e41b7",
   "metadata": {},
   "source": [
    "# 2. Write a Python program to convert Celsius to Fahrenheit?"
   ]
  },
  {
   "cell_type": "code",
   "execution_count": 3,
   "id": "1ceb3d4b",
   "metadata": {},
   "outputs": [
    {
     "name": "stdout",
     "output_type": "stream",
     "text": [
      "enter temeprature in celcius to convert into Fahrenheit =10\n",
      "converted miles = 50.0\n"
     ]
    }
   ],
   "source": [
    "cesius=int(input(\"enter temeprature in celcius to convert into Fahrenheit =\"))\n",
    "\n",
    "# 1 cesius = [(1 deg.celcius * 1.8) + 32] Fahrenheit\n",
    "\n",
    "Fahrenheit=(cesius*1.8)+32\n",
    "print(\"converted miles =\",Fahrenheit)"
   ]
  },
  {
   "cell_type": "markdown",
   "id": "d5383655",
   "metadata": {},
   "source": [
    "# 3. Write a Python program to display calendar?"
   ]
  },
  {
   "cell_type": "code",
   "execution_count": 4,
   "id": "d1fcf406",
   "metadata": {},
   "outputs": [
    {
     "name": "stdout",
     "output_type": "stream",
     "text": [
      "enter a year1994\n",
      "enter a month8\n",
      "    August 1994\n",
      "Mo Tu We Th Fr Sa Su\n",
      " 1  2  3  4  5  6  7\n",
      " 8  9 10 11 12 13 14\n",
      "15 16 17 18 19 20 21\n",
      "22 23 24 25 26 27 28\n",
      "29 30 31\n",
      "\n"
     ]
    }
   ],
   "source": [
    "import calendar\n",
    "year=int(input(\"enter a year\"))\n",
    "month=int(input(\"enter a month\"))\n",
    "print(calendar.month(year,month))"
   ]
  },
  {
   "cell_type": "markdown",
   "id": "4da4dca3",
   "metadata": {},
   "source": [
    "# 4. Write a Python program to solve quadratic equation?"
   ]
  },
  {
   "cell_type": "code",
   "execution_count": 8,
   "id": "7f333f85",
   "metadata": {},
   "outputs": [
    {
     "name": "stdout",
     "output_type": "stream",
     "text": [
      "The solution are (4-0j) and (3-0j)\n"
     ]
    }
   ],
   "source": [
    "#so quadratic eq is of form ax**2 + bx + c = 0\n",
    "#Here, \"x\" is unknown which you have to find and \"a\", \"b\", \"c\" specifies the numbers such that \"a\" is not equal to 0. \n",
    "#If a = 0 then the equation becomes liner not quadratic anymore.\n",
    "#The solutions of this quadratic equation is given by:\n",
    "#(-b ± (b ** 2 - 4 * a * c) ** 0.5) / (2 * a)\n",
    "\n",
    "\n",
    "# import complex math module\n",
    "import cmath\n",
    "\n",
    "a = -1\n",
    "b = 7\n",
    "c = -12\n",
    "\n",
    "# calculate the discriminant\n",
    "d = (b**2) - (4*a*c)\n",
    "\n",
    "# find two solutions\n",
    "sol1 = (-b-cmath.sqrt(d))/(2*a)\n",
    "sol2 = (-b+cmath.sqrt(d))/(2*a)\n",
    "\n",
    "print('The solution are {0} and {1}'.format(sol1,sol2))"
   ]
  },
  {
   "cell_type": "markdown",
   "id": "dba54df6",
   "metadata": {},
   "source": [
    "# 5. Write a Python program to swap two variables without temp variable?"
   ]
  },
  {
   "cell_type": "code",
   "execution_count": 10,
   "id": "af26eaf3",
   "metadata": {},
   "outputs": [
    {
     "name": "stdout",
     "output_type": "stream",
     "text": [
      "enter a number10\n",
      "enter a number20\n",
      "\n",
      "before swap a= 10\n",
      "before swap a= 20\n",
      "after swap a= 20\n",
      "after swap a= 10\n"
     ]
    }
   ],
   "source": [
    "a=int(input(\"enter a number\"))\n",
    "b=int(input(\"enter a number\"))\n",
    "print()\n",
    "print(\"before swap a=\",a)\n",
    "print(\"before swap a=\",b)\n",
    "a=a+b\n",
    "b=a-b\n",
    "a=a-b\n",
    "print(\"after swap a=\",a)\n",
    "print(\"after swap a=\",b)"
   ]
  },
  {
   "cell_type": "code",
   "execution_count": null,
   "id": "8a1ebb68",
   "metadata": {},
   "outputs": [],
   "source": []
  }
 ],
 "metadata": {
  "kernelspec": {
   "display_name": "Python 3 (ipykernel)",
   "language": "python",
   "name": "python3"
  },
  "language_info": {
   "codemirror_mode": {
    "name": "ipython",
    "version": 3
   },
   "file_extension": ".py",
   "mimetype": "text/x-python",
   "name": "python",
   "nbconvert_exporter": "python",
   "pygments_lexer": "ipython3",
   "version": "3.9.7"
  }
 },
 "nbformat": 4,
 "nbformat_minor": 5
}
