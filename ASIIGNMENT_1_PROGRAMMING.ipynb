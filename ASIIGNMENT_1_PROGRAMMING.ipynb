{
 "cells": [
  {
   "cell_type": "markdown",
   "id": "b8c4e5cd",
   "metadata": {},
   "source": [
    "\n",
    "\n",
    "\n",
    "\n"
   ]
  },
  {
   "cell_type": "markdown",
   "id": "174a6b50",
   "metadata": {},
   "source": [
    "# 1. Write a Python program to print \"Hello Python\""
   ]
  },
  {
   "cell_type": "code",
   "execution_count": 4,
   "id": "6999e01f",
   "metadata": {},
   "outputs": [
    {
     "name": "stdout",
     "output_type": "stream",
     "text": [
      "Hello Python\n"
     ]
    }
   ],
   "source": [
    "print(\"Hello Python\")"
   ]
  },
  {
   "cell_type": "markdown",
   "id": "267d5471",
   "metadata": {},
   "source": [
    "# 2. Write a Python program to do arithmetical operations addition and division.?"
   ]
  },
  {
   "cell_type": "code",
   "execution_count": 3,
   "id": "49a0832a",
   "metadata": {},
   "outputs": [
    {
     "name": "stdout",
     "output_type": "stream",
     "text": [
      "enter a first number=10\n",
      "enter a first number=20\n",
      "addition= 30\n",
      "division= 0.5\n"
     ]
    }
   ],
   "source": [
    "a=int(input(\"enter a first number=\"))\n",
    "b=int(input(\"enter a first number=\"))\n",
    "if b!=0:\n",
    "    c=a+b\n",
    "    d=a/b       \n",
    "print(\"addition=\",c)\n",
    "print(\"division=\",d)"
   ]
  },
  {
   "cell_type": "markdown",
   "id": "084448c5",
   "metadata": {},
   "source": [
    "# 3. Write a Python program to find the area of a triangle?"
   ]
  },
  {
   "cell_type": "code",
   "execution_count": 2,
   "id": "1bafe2f0",
   "metadata": {},
   "outputs": [
    {
     "name": "stdout",
     "output_type": "stream",
     "text": [
      "area of triangle= 2500.0\n"
     ]
    }
   ],
   "source": [
    "base=50\n",
    "height=100\n",
    "area_of_triange=0.5*base*height\n",
    "print(\"area of triangle=\",area_of_triange)"
   ]
  },
  {
   "cell_type": "markdown",
   "id": "dcd7d437",
   "metadata": {},
   "source": [
    "# 4. Write a Python program to swap two variables?"
   ]
  },
  {
   "cell_type": "code",
   "execution_count": 21,
   "id": "458a1db6",
   "metadata": {},
   "outputs": [
    {
     "name": "stdout",
     "output_type": "stream",
     "text": [
      "enter a length of rectangel=50\n",
      "enter a width of rectangel=20\n",
      "values before swap a = 50\n",
      "values before swap b = 20\n",
      "values before swap a = 20\n",
      "values before swap b = 50\n"
     ]
    }
   ],
   "source": [
    "a=int(input(\"enter a length of rectangel=\"))\n",
    "b=int(input(\"enter a width of rectangel=\"))\n",
    "print(\"values before swap a =\",a)\n",
    "print(\"values before swap b =\",b)\n",
    "a,b=b,a\n",
    "print(\"values before swap a =\",a)\n",
    "print(\"values before swap b =\",b)"
   ]
  },
  {
   "cell_type": "markdown",
   "id": "cea34f30",
   "metadata": {},
   "source": [
    "# 5. Write a Python program to generate a random number?"
   ]
  },
  {
   "cell_type": "code",
   "execution_count": 11,
   "id": "57470bdc",
   "metadata": {},
   "outputs": [
    {
     "name": "stdout",
     "output_type": "stream",
     "text": [
      "random number is= 4\n"
     ]
    }
   ],
   "source": [
    "import random\n",
    "a=random.randrange(5)\n",
    "print(\"random number is=\",a)"
   ]
  },
  {
   "cell_type": "code",
   "execution_count": 10,
   "id": "68fac225",
   "metadata": {},
   "outputs": [],
   "source": [
    "import numpy as np"
   ]
  },
  {
   "cell_type": "code",
   "execution_count": 20,
   "id": "380d137c",
   "metadata": {},
   "outputs": [
    {
     "data": {
      "text/plain": [
       "9"
      ]
     },
     "execution_count": 20,
     "metadata": {},
     "output_type": "execute_result"
    }
   ],
   "source": [
    "#to generate randoem integer number between 1 to 10\n",
    "a=np.random.randint(1,10)\n",
    "a"
   ]
  },
  {
   "cell_type": "code",
   "execution_count": null,
   "id": "121633b7",
   "metadata": {},
   "outputs": [],
   "source": []
  }
 ],
 "metadata": {
  "kernelspec": {
   "display_name": "Python 3 (ipykernel)",
   "language": "python",
   "name": "python3"
  },
  "language_info": {
   "codemirror_mode": {
    "name": "ipython",
    "version": 3
   },
   "file_extension": ".py",
   "mimetype": "text/x-python",
   "name": "python",
   "nbconvert_exporter": "python",
   "pygments_lexer": "ipython3",
   "version": "3.9.7"
  }
 },
 "nbformat": 4,
 "nbformat_minor": 5
}
