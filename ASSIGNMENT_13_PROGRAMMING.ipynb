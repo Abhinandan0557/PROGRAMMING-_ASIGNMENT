{
 "cells": [
  {
   "cell_type": "markdown",
   "id": "ad08e8a5",
   "metadata": {},
   "source": [
    "# 1. Write a program that calculates and prints the value according to the given formula:\n",
    "\n",
    "Q = Square root of [(2 * C * D)/H]\n",
    "\n",
    "Following are the fixed values of C and H:\n",
    "\n",
    "C is 50. H is 30.\n",
    "\n",
    "D is the variable whose values should be input to your program in a comma-separated sequence.\n",
    "\n",
    "Example\n",
    "\n",
    "Let us assume the following comma separated input sequence is given to the program: 100,150,180\n",
    "\n",
    "The output of the program should be: 18,22,24"
   ]
  },
  {
   "cell_type": "code",
   "execution_count": 10,
   "id": "e8255061",
   "metadata": {},
   "outputs": [
    {
     "name": "stdout",
     "output_type": "stream",
     "text": [
      "(18, 22, 24)\n"
     ]
    }
   ],
   "source": [
    "import numpy as np\n",
    "c=50\n",
    "h=30\n",
    "list1=[]\n",
    "d=100,150,180\n",
    "for i in d:\n",
    "    q=int(np.sqrt([(2*c*i)/h]))\n",
    "    list1.append(q)\n",
    "print(tuple(list1))"
   ]
  },
  {
   "cell_type": "markdown",
   "id": "fb7d206f",
   "metadata": {},
   "source": [
    "# 2. Write a program which takes 2 digits, X,Y as input and generates a 2-dimensional array. \n",
    "\n",
    "The element value in the i-th row and j-th column of the array should be i*j.\n",
    "\n",
    "Note: i=0,1.., X-1; j=0,1,¡Y-1.\n",
    "\n",
    "Example\n",
    "\n",
    "Suppose the following inputs are given to the program: 3,5\n",
    "\n",
    "Then, the output of the program should be: [[0, 0, 0, 0, 0], [0, 1, 2, 3, 4], [0, 2, 4, 6, 8]]"
   ]
  },
  {
   "cell_type": "code",
   "execution_count": 8,
   "id": "7f5f8822",
   "metadata": {},
   "outputs": [
    {
     "name": "stdout",
     "output_type": "stream",
     "text": [
      "Enter the No of Rows:3\n",
      "Enter the No of Columns:5\n",
      "[[0, 0, 0, 0, 0], [0, 1, 2, 3, 4], [0, 2, 4, 6, 8]]\n"
     ]
    }
   ],
   "source": [
    "x= int(input('Enter the No of Rows:'))\n",
    "y = int(input('Enter the No of Columns:'))\n",
    "list1=[]\n",
    "for i in range(x):\n",
    "    list1.insert(x,[])\n",
    "    for j in range(y):\n",
    "        list1[i].append(i*j)\n",
    "print(list1)"
   ]
  },
  {
   "cell_type": "markdown",
   "id": "3017b17d",
   "metadata": {},
   "source": [
    "# 3. Write a program that accepts a comma separated sequence of words as input and prints the words in a comma-separated sequence after sorting them alphabetically.\n",
    "\n",
    "Suppose the following input is supplied to the program: without,hello,bag,world\n",
    "\n",
    "Then, the output should be: bag,hello,without,world"
   ]
  },
  {
   "cell_type": "code",
   "execution_count": 11,
   "id": "1a448dc2",
   "metadata": {},
   "outputs": [
    {
     "name": "stdout",
     "output_type": "stream",
     "text": [
      "Enter comma sepreted words=without,hello,bag,world\n"
     ]
    },
    {
     "data": {
      "text/plain": [
       "'bag,hello,without,world'"
      ]
     },
     "execution_count": 11,
     "metadata": {},
     "output_type": "execute_result"
    }
   ],
   "source": [
    "str1=input(\"Enter comma sepreted words=\")\n",
    "list1=str1.split(\",\")\n",
    "list1.sort()\n",
    "\",\".join(list1)"
   ]
  },
  {
   "cell_type": "markdown",
   "id": "3f01203f",
   "metadata": {},
   "source": [
    "# 4. Write a program that accepts a sequence of whitespace separated words as input and prints the words after removing all duplicate words and sorting them alphanumerically.\n",
    "\n",
    "Suppose the following input is supplied to the program:\n",
    "\n",
    "hello world and practice makes perfect and hello world again\n",
    "\n",
    "Then, the output should be:\n",
    "\n",
    "again and hello makes perfect practice world"
   ]
  },
  {
   "cell_type": "code",
   "execution_count": 21,
   "id": "79e70cf2",
   "metadata": {},
   "outputs": [
    {
     "name": "stdout",
     "output_type": "stream",
     "text": [
      "Enter white space sepreted words=hello world and practice makes perfect and hello world again\n"
     ]
    },
    {
     "data": {
      "text/plain": [
       "'again and hello makes perfect practice world'"
      ]
     },
     "execution_count": 21,
     "metadata": {},
     "output_type": "execute_result"
    }
   ],
   "source": [
    "str1=input(\"Enter white space sepreted words=\")\n",
    "list1=str1.split(\" \")\n",
    "list2=sorted(list(set(list1)))\n",
    "\" \".join(list2)"
   ]
  },
  {
   "cell_type": "markdown",
   "id": "3e47d219",
   "metadata": {},
   "source": [
    "# 5. Write a program that accepts a sentence and calculate the number of letters and digits.\n",
    "\n",
    "Suppose the following input is supplied to the program:\n",
    "\n",
    "hello world! 123\n",
    "\n",
    "Then, the output should be:\n",
    "\n",
    "LETTERS 10\n",
    "\n",
    "DIGITS 3"
   ]
  },
  {
   "cell_type": "code",
   "execution_count": 24,
   "id": "afcaa4b0",
   "metadata": {},
   "outputs": [
    {
     "name": "stdout",
     "output_type": "stream",
     "text": [
      "Enter white space sepreted words and number=hello world! 123\n",
      "Letters 10\n",
      "Digits 3\n"
     ]
    }
   ],
   "source": [
    "str1=input(\"Enter white space sepreted words and number=\")\n",
    "list1=list(str1)\n",
    "letters=0\n",
    "digits=0\n",
    "for i in list1:\n",
    "    if i.isdigit():\n",
    "        digits+=1\n",
    "    if i.isalpha():\n",
    "        letters+=1\n",
    "print(\"Letters\",letters)\n",
    "print(\"Digits\",digits)"
   ]
  },
  {
   "cell_type": "markdown",
   "id": "0deb8706",
   "metadata": {},
   "source": [
    "# 6. A website requires the users to input username and password to register. Write a program to check the validity of password input by users.\n",
    "\n",
    "Following are the criteria for checking the password:\n",
    "1. At least 1 letter between [a-z]\n",
    "2. At least 1 number between [0-9]\n",
    "1. At least 1 letter between [A-Z]\n",
    "3. At least 1 character from [$#@]\n",
    "4. Minimum length of transaction password: 6\n",
    "5. Maximum length of transaction password: 12\n",
    "\n",
    "Your program should accept a sequence of comma separated passwords and will check themaccording to the above criteria. Passwords that match the criteria are to be printed, eachseparated by a comma.\n",
    "\n",
    "Example\n",
    "\n",
    "If the following passwords are given as input to the program:\n",
    "\n",
    "ABd1234@1,a F1#,2w3E*,2We3345\n",
    "\n",
    "Then, the output of the program should be:\n",
    "\n",
    "ABd1234@1"
   ]
  },
  {
   "cell_type": "code",
   "execution_count": 39,
   "id": "49adec3d",
   "metadata": {},
   "outputs": [
    {
     "name": "stdout",
     "output_type": "stream",
     "text": [
      "Enter password strings: ABd1234@1,a F1#,2w3E*,2We3345\n",
      "valid password is ABd1234@1\n"
     ]
    }
   ],
   "source": [
    "a = input('Enter password strings: ').split(',')\n",
    "special_list = \"$#@\"\n",
    "for i in a:\n",
    "    if len(i) >= 6 or len(i)<= 12:\n",
    "        if any(j.islower() for j in i):\n",
    "            if any(j.isupper() for j in i):\n",
    "                if any(j.isdigit() for j in i):\n",
    "                    if any(j for j in i if j in special_list):\n",
    "                        print(\"valid password is\",i)\n",
    "                        break\n",
    "\n"
   ]
  },
  {
   "cell_type": "code",
   "execution_count": null,
   "id": "a87d2637",
   "metadata": {},
   "outputs": [],
   "source": []
  }
 ],
 "metadata": {
  "kernelspec": {
   "display_name": "Python 3 (ipykernel)",
   "language": "python",
   "name": "python3"
  },
  "language_info": {
   "codemirror_mode": {
    "name": "ipython",
    "version": 3
   },
   "file_extension": ".py",
   "mimetype": "text/x-python",
   "name": "python",
   "nbconvert_exporter": "python",
   "pygments_lexer": "ipython3",
   "version": "3.9.7"
  }
 },
 "nbformat": 4,
 "nbformat_minor": 5
}
