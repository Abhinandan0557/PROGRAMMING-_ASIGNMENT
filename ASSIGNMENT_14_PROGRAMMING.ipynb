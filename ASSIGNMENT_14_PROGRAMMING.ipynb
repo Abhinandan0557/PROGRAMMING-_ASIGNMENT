{
 "cells": [
  {
   "cell_type": "markdown",
   "id": "2c4fc6ff",
   "metadata": {},
   "source": [
    "# 1. Define a class with a generator which can iterate the numbers, which are divisible by 7, between a given range 0 and n."
   ]
  },
  {
   "cell_type": "code",
   "execution_count": 1,
   "id": "ecab7c4d",
   "metadata": {},
   "outputs": [
    {
     "name": "stdout",
     "output_type": "stream",
     "text": [
      "0\n",
      "7\n",
      "14\n",
      "21\n",
      "28\n",
      "35\n",
      "42\n",
      "49\n",
      "56\n",
      "63\n",
      "70\n",
      "77\n",
      "84\n",
      "91\n",
      "98\n"
     ]
    }
   ],
   "source": [
    "class divisible_by_7:\n",
    "    def __init__(self,num):\n",
    "        self.num=num\n",
    "    def div_7(self):\n",
    "        for i in range(self.num+1):\n",
    "            if i%7==0:\n",
    "                print(i)\n",
    "number=divisible_by_7(100)\n",
    "number.div_7()"
   ]
  },
  {
   "cell_type": "markdown",
   "id": "654308c6",
   "metadata": {},
   "source": [
    "# 2. Write a program to compute the frequency of the words from the input. The output should output after sorting the key alphanumerically.\n",
    "\n",
    "Suppose the following input is supplied to the program:\n",
    "\n",
    "New to Python or choosing between Python 2 and Python 3? Read Python 2 or Python 3.\n",
    "\n",
    "Then, the output should be:\n",
    "\n",
    "2:2\n",
    "\n",
    "3.:1\n",
    "\n",
    "3?:1\n",
    "\n",
    "New:1\n",
    "\n",
    "Python:5\n",
    "\n",
    "Read:1\n",
    "\n",
    "and:1\n",
    "\n",
    "between:1\n",
    "\n",
    "choosing:1\n",
    "\n",
    "or:2\n",
    "\n",
    "to:1"
   ]
  },
  {
   "cell_type": "code",
   "execution_count": 2,
   "id": "b871fd5e",
   "metadata": {},
   "outputs": [
    {
     "name": "stdout",
     "output_type": "stream",
     "text": [
      "enter a srting =New to Python or choosing between Python 2 and Python 3? Read Python 2 or Python 3.\n",
      "2 : 2\n",
      "3. : 1\n",
      "3? : 1\n",
      "New : 1\n",
      "Python : 5\n",
      "Read : 1\n",
      "and : 1\n",
      "between : 1\n",
      "choosing : 1\n",
      "or : 2\n",
      "to : 1\n"
     ]
    }
   ],
   "source": [
    "def count():\n",
    "    str1=input(\"enter a srting =\")\n",
    "    set1=set(str1.split())\n",
    "    for i in sorted(set1):\n",
    "        count=str1.count(i)\n",
    "        print(i,\":\",count)\n",
    "count()"
   ]
  },
  {
   "cell_type": "markdown",
   "id": "2642bb2b",
   "metadata": {},
   "source": [
    "# 3. Define a class Person and its two child classes: Male and Female. All classes have a method \"getGender\" which can print \"Male\" for Male class and \"Female\" for Female class.3."
   ]
  },
  {
   "cell_type": "code",
   "execution_count": 5,
   "id": "4771b765",
   "metadata": {},
   "outputs": [],
   "source": [
    "class Person:\n",
    "    def __init__(self,gender):\n",
    "        self.gender = gender\n",
    "    def getGender(self):\n",
    "        return self.gender\n",
    "class Male(Person):\n",
    "    def __init__(self,gender):\n",
    "        super().__init__(gender)\n",
    "    def getGender(self):\n",
    "        return self.gender\n",
    "class Female(Person):\n",
    "    def __init__(self,gender):\n",
    "        super().__init__(gender)\n",
    "    def getGender(self):\n",
    "        return self.gender "
   ]
  },
  {
   "cell_type": "code",
   "execution_count": 8,
   "id": "85a8064c",
   "metadata": {},
   "outputs": [
    {
     "data": {
      "text/plain": [
       "'male'"
      ]
     },
     "execution_count": 8,
     "metadata": {},
     "output_type": "execute_result"
    }
   ],
   "source": [
    "object=Male(\"male\")\n",
    "object.getGender()\n"
   ]
  },
  {
   "cell_type": "markdown",
   "id": "66a4004c",
   "metadata": {},
   "source": [
    "# 4. Please write a program to generate all sentences where subject is in [\"I\", \"You\"] and verb is in [\"Play\", \"Love\"] and the object is in [\"Hockey\",\"Football\"]."
   ]
  },
  {
   "cell_type": "code",
   "execution_count": 9,
   "id": "359b51f5",
   "metadata": {},
   "outputs": [
    {
     "name": "stdout",
     "output_type": "stream",
     "text": [
      "I Play Hockey\n",
      "I Play Football\n",
      "I Love Hockey\n",
      "I Love Football\n",
      "You Play Hockey\n",
      "You Play Football\n",
      "You Love Hockey\n",
      "You Love Football\n"
     ]
    }
   ],
   "source": [
    "subject = [\"I\", \"You\"]\n",
    "verb = [\"Play\", \"Love\"]\n",
    "object = [\"Hockey\",\"Football\"]\n",
    "for i in subject:\n",
    "    for j in verb:\n",
    "        for k in object:\n",
    "            print(f'{i} {j} {k}')"
   ]
  },
  {
   "cell_type": "markdown",
   "id": "a23f5b21",
   "metadata": {},
   "source": [
    "# 5.Please write a program to compress and decompress the string \"hello world!hello world!hello world!hello world!\"."
   ]
  },
  {
   "cell_type": "code",
   "execution_count": 10,
   "id": "042400f7",
   "metadata": {},
   "outputs": [
    {
     "name": "stdout",
     "output_type": "stream",
     "text": [
      "Compresssed string:  b'x^\\xcbH\\xcd\\xc9\\xc9W(\\xcf/\\xcaIQ\\xcc \\x82\\r\\x00\\xbd[\\x11\\xf5'\n"
     ]
    }
   ],
   "source": [
    "import zlib\n",
    "data = b\"hello world!hello world!hello world!hello world!\"\n",
    "compress_data = zlib.compress(data,2)\n",
    "print('Compresssed string: ',compress_data)\n"
   ]
  },
  {
   "cell_type": "code",
   "execution_count": 11,
   "id": "b8bd4a67",
   "metadata": {},
   "outputs": [
    {
     "name": "stdout",
     "output_type": "stream",
     "text": [
      "Decompressed String:  b'hello world!hello world!hello world!hello world!'\n"
     ]
    }
   ],
   "source": [
    "decom_data = zlib.decompress(compress_data)\n",
    "print('Decompressed String: ',str(decom_data))"
   ]
  },
  {
   "cell_type": "markdown",
   "id": "c2889a17",
   "metadata": {},
   "source": [
    "# 6. Please write a binary search function which searches an item in a sorted list. The function should return the index of element to be searched in the list."
   ]
  },
  {
   "cell_type": "code",
   "execution_count": 12,
   "id": "77e5ce76",
   "metadata": {},
   "outputs": [
    {
     "name": "stdout",
     "output_type": "stream",
     "text": [
      "Index of element is: 7\n"
     ]
    }
   ],
   "source": [
    "def binaray_search(arr,i,j,x):\n",
    "    if i == j:\n",
    "        if arr[i] == x:\n",
    "            return i\n",
    "        else:\n",
    "            return -1\n",
    "    else:\n",
    "        mid = i + (j-i)//2\n",
    "        if arr[mid] == x:\n",
    "            return mid\n",
    "        elif arr[mid] < x:\n",
    "            return binaray_search(arr,mid+1,j,x)\n",
    "        else:\n",
    "            return binaray_search(arr,i,mid-1,x)\n",
    "\n",
    "a = [3,6,9,13,17,22,66,77,88,90]\n",
    "i = 0\n",
    "j = len(a)-1\n",
    "x = 77\n",
    "res = binaray_search(a,i,j,x)\n",
    "print('Index of element is:',res)"
   ]
  }
 ],
 "metadata": {
  "kernelspec": {
   "display_name": "Python 3 (ipykernel)",
   "language": "python",
   "name": "python3"
  },
  "language_info": {
   "codemirror_mode": {
    "name": "ipython",
    "version": 3
   },
   "file_extension": ".py",
   "mimetype": "text/x-python",
   "name": "python",
   "nbconvert_exporter": "python",
   "pygments_lexer": "ipython3",
   "version": "3.9.7"
  }
 },
 "nbformat": 4,
 "nbformat_minor": 5
}
